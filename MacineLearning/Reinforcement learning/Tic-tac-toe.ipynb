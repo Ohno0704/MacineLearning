{
 "cells": [
  {
   "cell_type": "code",
   "execution_count": 23,
   "metadata": {},
   "outputs": [],
   "source": [
    "import matplotlib.pyplot as plt\n",
    "from IPython.display import clear_output\n",
    "import random\n",
    "from time import sleep\n",
    "import numpy as np\n",
    "import math"
   ]
  },
  {
   "cell_type": "code",
   "execution_count": 24,
   "metadata": {},
   "outputs": [],
   "source": [
    "def get_player_input(play_area, first_inputter):\n",
    "    \"\"\"\n",
    "    プレイヤーから入力を受け付ける関数\n",
    "\n",
    "    ゲームの状況をあらわすリストを受け取り、\n",
    "    プレイヤーの入力で更新したリストと入力を返す\n",
    "    \"\"\"\n",
    "    choosable_area = [str(area) for area in play_area if type(area) is int]\n",
    "    while(True):\n",
    "        player_input = input('Choose a number!>>>')\n",
    "        if player_input in choosable_area:\n",
    "            player_input = int(player_input)\n",
    "            break\n",
    "        else:\n",
    "            print('Wrong input!\\nChoose a number from' \\\n",
    "                  '{}'.format(choosable_area))\n",
    "    if first_inputter == 1:\n",
    "        play_area[play_area.index(player_input)] = '○'\n",
    "    elif first_inputter == 2:\n",
    "        play_area[play_area.index(player_input)] = '×'\n",
    "    return play_area, player_input"
   ]
  },
  {
   "cell_type": "code",
   "execution_count": 25,
   "metadata": {},
   "outputs": [],
   "source": [
    "def get_ai_input(play_area, first_inputter, mode=0, q_table=None, epsilon=None):\n",
    "    \"\"\"\n",
    "    AIの入力を受け付ける関数\n",
    "\n",
    "    ゲームの状況をあらわすリストとAIのモードおよびその他のオプションを受け取り、\n",
    "    AIの入力で更新したリストと入力を返す\n",
    "    \"\"\"\n",
    "    choosable_area = [str(area) for area in play_area if type(area) is int]\n",
    "    if mode == 0:\n",
    "        ai_input = int(random.choice(choosable_area))\n",
    "    elif mode == 1:\n",
    "        ai_input = get_ql_action(play_area, choosable_area, q_table, epsilon)\n",
    "    if first_inputter == 1:\n",
    "        play_area[play_area.index(ai_input)] = '×'\n",
    "    elif first_inputter == 2:\n",
    "        play_area[play_area.index(ai_input)] = '○'\n",
    "    return play_area, ai_input"
   ]
  },
  {
   "cell_type": "code",
   "execution_count": 26,
   "metadata": {},
   "outputs": [],
   "source": [
    "def show_play(play_area, inputter=0, inputted=0):\n",
    "    \"\"\"\n",
    "    TIC TAC TOEの画面を表示する関数\n",
    "\n",
    "    表示すべきリスト(1～9の数値、○、×から成る)と\n",
    "    直前の入力者および入力を受け取り、表示する\n",
    "    \"\"\"\n",
    "    clear_output()\n",
    "    plt.figure(figsize=(6, 6))\n",
    "    plt.plot()\n",
    "    plt.xticks([0, 5, 10, 15])\n",
    "    plt.yticks([0, 5, 10, 15])\n",
    "    plt.tick_params(labelbottom='off', bottom='off')\n",
    "    plt.tick_params(labelleft='off', left='off')\n",
    "    plt.xlim(0, 15)\n",
    "    plt.ylim(0, 15)\n",
    "\n",
    "    x_pos = [2.5, 7.5, 12.5]\n",
    "    y_pos = [2.5, 7.5, 12.5]\n",
    "\n",
    "    markers = ['$' + str(marker) + '$' for marker in play_area]\n",
    "\n",
    "    marker_count = 0\n",
    "    for y in reversed(y_pos):\n",
    "        for x in x_pos:\n",
    "            if markers[marker_count] == '$○$':\n",
    "                color = 'r'\n",
    "            elif markers[marker_count] == '$×$':\n",
    "                color = 'k'\n",
    "            else:\n",
    "                color = 'b'\n",
    "            plt.plot(x, y, marker=markers[marker_count], \n",
    "                     markersize=30, color=color)\n",
    "            marker_count += 1\n",
    "    if inputter == 0:\n",
    "        title = 'Play the TIC TAC TOE!!'\n",
    "    else:\n",
    "        title = '{} chose {}!!'.format(inputter, inputted)\n",
    "    plt.title(title)\n",
    "    plt.show()"
   ]
  },
  {
   "cell_type": "code",
   "execution_count": 27,
   "metadata": {},
   "outputs": [],
   "source": [
    "def judge(play_area, inputter):\n",
    "    \"\"\"\n",
    "    ゲーム終了及び勝者を判定する\n",
    "\n",
    "    ゲームの状況をあらわすリストと直前の入力者を受け取り、\n",
    "    ゲームが終了していれば勝者と終了判定を返す\n",
    "    \"\"\"\n",
    "    end_flg = 0\n",
    "    winner = 'NOBODY'\n",
    "    first_list = [0, 3, 6, 0, 1, 2, 0, 2]\n",
    "    second_list = [1, 4, 7, 3, 4, 5, 4, 4]\n",
    "    third_list = [2, 5, 8, 6, 7, 8, 8, 6]\n",
    "    for first, second, third in zip(first_list, second_list, third_list):\n",
    "        if play_area[first] == play_area[second] \\\n",
    "        and play_area[first] == play_area[third]:\n",
    "            winner = inputter\n",
    "            end_flg = 1\n",
    "            break\n",
    "    choosable_area = [str(area) for area in play_area if type(area) is int]\n",
    "    if len(choosable_area) == 0:\n",
    "        end_flg = 1\n",
    "    return winner, end_flg"
   ]
  },
  {
   "cell_type": "code",
   "execution_count": 28,
   "metadata": {},
   "outputs": [],
   "source": [
    "def player_vs_randomAI(first_inputter):\n",
    "    \"\"\"\n",
    "    プレイヤーとAI(ランダム)のゲームを実行する関数\n",
    "\n",
    "    先手(1:プレイヤー、2:AI)を受け取り、ゲームが終了するまで実行する\n",
    "    \"\"\"\n",
    "    inputter1 = 'YOU'\n",
    "    inputter2 = 'AI'\n",
    "\n",
    "    play_area = list(range(1, 10))\n",
    "    show_play(play_area)\n",
    "    inputter_count = first_inputter\n",
    "    end_flg = 0\n",
    "    while True:\n",
    "        if (inputter_count % 2) == 1:\n",
    "            print('Your turn!')\n",
    "            play_area, player_input = get_player_input(play_area, first_inputter)\n",
    "            show_play(play_area, inputter1, player_input)\n",
    "            winner, end_flg = judge(play_area, inputter1)\n",
    "            if end_flg:\n",
    "                break\n",
    "        elif (inputter_count % 2) == 0:\n",
    "            print('AI\\'s turn!\\n.\\n.\\n.')\n",
    "            play_area, ai_input = get_ai_input(play_area, first_inputter, mode=0)\n",
    "            sleep(3)\n",
    "            show_play(play_area, inputter2, ai_input)\n",
    "            winner, end_flg = judge(play_area, inputter2)\n",
    "            if end_flg:\n",
    "                break\n",
    "        inputter_count += 1\n",
    "    print('{} win!!!'.format(winner))"
   ]
  },
  {
   "cell_type": "code",
   "execution_count": 29,
   "metadata": {},
   "outputs": [
    {
     "data": {
      "image/png": "[encoded data removed]",
      "text/plain": [
       "<Figure size 432x432 with 1 Axes>"
      ]
     },
     "metadata": {
      "needs_background": "light"
     },
     "output_type": "display_data"
    },
    {
     "name": "stdout",
     "output_type": "stream",
     "text": [
      "YOU win!!!\n"
     ]
    }
   ],
   "source": [
    "# ゲームしてみる\n",
    "# 引数1:プレイヤー先手\n",
    "# 引数2:プレイヤー後手\n",
    "\n",
    "player_vs_randomAI(1)"
   ]
  },
  {
   "cell_type": "code",
   "execution_count": 31,
   "metadata": {},
   "outputs": [],
   "source": [
    "# Qテーブル作成\n",
    "def make_q_table():\n",
    "    \"\"\"\n",
    "    Qテーブルを作成する関数\n",
    "    \"\"\"\n",
    "    n_columns = 9\n",
    "    n_rows = 3**9\n",
    "    return np.zeros((n_rows, n_columns))"
   ]
  },
  {
   "cell_type": "code",
   "execution_count": 32,
   "metadata": {},
   "outputs": [],
   "source": [
    "def q_learning(play_area, ai_input, reward, play_area_next, q_table, end_flg):\n",
    "    \"\"\"\n",
    "    Qテーブルを更新する関数\n",
    "\n",
    "    ゲームの状況をあらわすリスト・AIの行動・報酬\n",
    "    １手番後のゲームの状況をあらわすリスト・Qテーブル・勝利フラグ\n",
    "    を受け取り、更新したQテーブルを返す\n",
    "    \"\"\"\n",
    "    # 行番号取得\n",
    "    row_index = find_q_row(play_area)\n",
    "    row_index_next = find_q_row(play_area_next)\n",
    "    column_index = ai_input - 1\n",
    "    # 勝利した or 敗北した場合\n",
    "    if end_flg == 1:\n",
    "        q_table[row_index, column_index] = \\\n",
    "        q_table[row_index, column_index] + eta \\\n",
    "        * (reward - q_table[row_index, column_index])\n",
    "    # まだ続いている場合以外\n",
    "    else:\n",
    "        q_table[row_index, column_index] = \\\n",
    "        q_table[row_index, column_index] + eta \\\n",
    "        * (reward + gamma * np.nanmax(q_table[row_index_next,: ]) \\\n",
    "           - q_table[row_index, column_index])\n",
    "    return q_table"
   ]
  },
  {
   "cell_type": "code",
   "execution_count": 33,
   "metadata": {},
   "outputs": [],
   "source": [
    "def find_q_row(play_area):\n",
    "    \"\"\"\n",
    "    参照時の状況(state)が参照すべき行番号を計算する関数\n",
    "\n",
    "    ゲームの状況をあらわすリストを受け取り、行番号を返す\n",
    "    \"\"\"\n",
    "    row_index = 0\n",
    "    for index in range(len(play_area)):\n",
    "        if play_area[index] == '○':\n",
    "            coef = 1\n",
    "        elif play_area[index] == '×':\n",
    "            coef = 2\n",
    "        else:\n",
    "            coef = 0\n",
    "        row_index += (3 ** index) * coef\n",
    "    return row_index"
   ]
  },
  {
   "cell_type": "code",
   "execution_count": 34,
   "metadata": {},
   "outputs": [],
   "source": [
    "def get_ql_action(play_area, choosable_area, q_table, epsilon):\n",
    "    \"\"\"\n",
    "    AIの行動を決定する関数\n",
    "\n",
    "    ゲームの状況をあらわすリスト・\n",
    "    選択可能エリア・Qテーブル・イプシロンを受け取り、行動を返す\n",
    "    \"\"\"\n",
    "    # esilonの確率でランダムな選択をする\n",
    "    if np.random.rand() < epsilon:\n",
    "        ai_input = int(random.choice(choosable_area))\n",
    "    # Qテーブルに従い行動を選択する\n",
    "    else:\n",
    "        row_index = find_q_row(play_area)\n",
    "        first_choice_flg = 1\n",
    "        for choice in choosable_area:\n",
    "            if first_choice_flg == 1:\n",
    "                ai_input = int(choice)\n",
    "                first_choice_flg = 0\n",
    "            else:\n",
    "                if q_table[row_index, ai_input-1] \\\n",
    "                < q_table[row_index, int(choice)-1]:\n",
    "                    ai_input = int(choice)\n",
    "    return ai_input"
   ]
  },
  {
   "cell_type": "code",
   "execution_count": 35,
   "metadata": {},
   "outputs": [],
   "source": [
    "def randomAI_vs_QLAI(first_inputter, q_table, epsilon=0):\n",
    "    \"\"\"\n",
    "    AI(ランダム)とAI(Q学習)のゲームを実行する関数\n",
    "\n",
    "    先手(1:AI(ランダム)、2:AI(Q学習))とQテーブルを受け取り、\n",
    "    ゲームが終了するまで実行する\n",
    "    \"\"\"\n",
    "    inputter1 = 'Random AI'\n",
    "    inputter2 = 'QL AI'\n",
    "\n",
    "    # Q学習退避用\n",
    "    ql_input_list = []\n",
    "    play_area_list = []\n",
    "\n",
    "    play_area = list(range(1, 10))\n",
    "    #show_play(play_area)\n",
    "    inputter_count = first_inputter\n",
    "    end_flg = 0\n",
    "    ql_flg = 0\n",
    "    reward = 0\n",
    "    while True:\n",
    "        # Q学習退避用\n",
    "        play_area_tmp = play_area.copy()\n",
    "        play_area_list.append(play_area_tmp)\n",
    "        # Q学習実行フラグ\n",
    "        ql_flg = 0\n",
    "        # AI(Q学習)の手番\n",
    "        if (inputter_count % 2) == 0:\n",
    "            # QL AI入力\n",
    "            play_area, ql_ai_input = get_ai_input(play_area, \n",
    "                                                  first_inputter,\n",
    "                                                  mode=1, \n",
    "                                                  q_table=q_table, \n",
    "                                                  epsilon=epsilon)\n",
    "            winner, end_flg = judge(play_area, inputter2)\n",
    "            # Q学習退避用\n",
    "            ql_input_list.append(ql_ai_input)            \n",
    "            # 勝利した場合\n",
    "            if winner == inputter2:\n",
    "                reward = 1\n",
    "                ql_flg = 1\n",
    "            play_area_before = play_area_list[-1]\n",
    "            ql_ai_input_before = ql_input_list[-1]\n",
    "        # AI(ランダム)の手番\n",
    "        elif (inputter_count % 2) == 1:\n",
    "            play_area, random_ai_input = get_ai_input(play_area, \n",
    "                                                      first_inputter+1, \n",
    "                                                      mode=0)\n",
    "            winner, end_flg = judge(play_area, inputter1)\n",
    "            # AI(ランダム)が先手の場合の初手以外は学習\n",
    "            if inputter_count != 1:\n",
    "                ql_flg = 1\n",
    "        # Q学習実行\n",
    "        if ql_flg == 1:\n",
    "            ql_ai_input_before = ql_input_list[-1]\n",
    "            q_table = q_learning(play_area_before, ql_ai_input_before,\n",
    "                                 reward, play_area, q_table, end_flg)\n",
    "        if end_flg:\n",
    "            break\n",
    "        inputter_count += 1\n",
    "    print('{} win!!!'.format(winner))\n",
    "    return winner, q_table"
   ]
  },
  {
   "cell_type": "code",
   "execution_count": 36,
   "metadata": {},
   "outputs": [],
   "source": [
    "q_table = make_q_table()\n",
    "eta = 0.1  # 学習率\n",
    "gamma = 0.9  # 時間割引率\n",
    "initial_epsilon = 0.5  # ε-greedy法の初期値"
   ]
  },
  {
   "cell_type": "code",
   "execution_count": 37,
   "metadata": {},
   "outputs": [
    {
     "ename": "NameError",
     "evalue": "name 'time' is not defined",
     "output_type": "error",
     "traceback": [
      "\u001b[1;31m---------------------------------------------------------------------------\u001b[0m",
      "\u001b[1;31mNameError\u001b[0m                                 Traceback (most recent call last)",
      "\u001b[1;32m<ipython-input-37-46cee5f75b37>\u001b[0m in \u001b[0;36m<module>\u001b[1;34m\u001b[0m\n\u001b[0;32m      3\u001b[0m \u001b[0mepisode\u001b[0m \u001b[1;33m=\u001b[0m \u001b[1;36m500000\u001b[0m\u001b[1;33m\u001b[0m\u001b[1;33m\u001b[0m\u001b[0m\n\u001b[0;32m      4\u001b[0m \u001b[0mwinner_list\u001b[0m \u001b[1;33m=\u001b[0m \u001b[1;33m[\u001b[0m\u001b[1;33m]\u001b[0m\u001b[1;33m\u001b[0m\u001b[1;33m\u001b[0m\u001b[0m\n\u001b[1;32m----> 5\u001b[1;33m \u001b[0mstart\u001b[0m \u001b[1;33m=\u001b[0m \u001b[0mtime\u001b[0m\u001b[1;33m.\u001b[0m\u001b[0mtime\u001b[0m\u001b[1;33m(\u001b[0m\u001b[1;33m)\u001b[0m\u001b[1;33m\u001b[0m\u001b[1;33m\u001b[0m\u001b[0m\n\u001b[0m\u001b[0;32m      6\u001b[0m \u001b[1;32mfor\u001b[0m \u001b[0mi\u001b[0m \u001b[1;32min\u001b[0m \u001b[0mrange\u001b[0m\u001b[1;33m(\u001b[0m\u001b[0mepisode\u001b[0m\u001b[1;33m)\u001b[0m\u001b[1;33m:\u001b[0m\u001b[1;33m\u001b[0m\u001b[1;33m\u001b[0m\u001b[0m\n\u001b[0;32m      7\u001b[0m     \u001b[0mepsilon\u001b[0m \u001b[1;33m=\u001b[0m \u001b[0minitial_epsilon\u001b[0m \u001b[1;33m*\u001b[0m \u001b[1;33m(\u001b[0m\u001b[0mepisode\u001b[0m\u001b[1;33m-\u001b[0m\u001b[0mi\u001b[0m\u001b[1;33m)\u001b[0m \u001b[1;33m/\u001b[0m \u001b[0mepisode\u001b[0m\u001b[1;33m\u001b[0m\u001b[1;33m\u001b[0m\u001b[0m\n",
      "\u001b[1;31mNameError\u001b[0m: name 'time' is not defined"
     ]
    }
   ],
   "source": [
    "# ランダム vs QL(学習)\n",
    "# 試行数設定\n",
    "episode = 500000\n",
    "winner_list = []\n",
    "start = time.time()\n",
    "for i in range(episode):\n",
    "    epsilon = initial_epsilon * (episode-i) / episode\n",
    "    winner, _ = randomAI_vs_QLAI(1, q_table, epsilon)\n",
    "    winner_list.append(winner)\n",
    "elapsed_time = time.time() - start\n",
    "print ('elapsed_time:{0}'.format(elapsed_time) + '[sec]')"
   ]
  },
  {
   "cell_type": "code",
   "execution_count": 38,
   "metadata": {},
   "outputs": [
    {
     "name": "stdout",
     "output_type": "stream",
     "text": [
      "勝ち回数\n",
      "Random AI:0\n",
      "QL AI    :0\n",
      "NOBODY   :0\n"
     ]
    },
    {
     "ename": "ZeroDivisionError",
     "evalue": "division by zero",
     "output_type": "error",
     "traceback": [
      "\u001b[1;31m---------------------------------------------------------------------------\u001b[0m",
      "\u001b[1;31mZeroDivisionError\u001b[0m                         Traceback (most recent call last)",
      "\u001b[1;32m<ipython-input-38-daaaf60ace62>\u001b[0m in \u001b[0;36m<module>\u001b[1;34m\u001b[0m\n\u001b[0;32m      3\u001b[0m \u001b[0mprint\u001b[0m\u001b[1;33m(\u001b[0m\u001b[1;34m'QL AI    :{}'\u001b[0m\u001b[1;33m.\u001b[0m\u001b[0mformat\u001b[0m\u001b[1;33m(\u001b[0m\u001b[0mwinner_list\u001b[0m\u001b[1;33m.\u001b[0m\u001b[0mcount\u001b[0m\u001b[1;33m(\u001b[0m\u001b[1;34m'QL AI'\u001b[0m\u001b[1;33m)\u001b[0m\u001b[1;33m)\u001b[0m\u001b[1;33m)\u001b[0m\u001b[1;33m\u001b[0m\u001b[1;33m\u001b[0m\u001b[0m\n\u001b[0;32m      4\u001b[0m \u001b[0mprint\u001b[0m\u001b[1;33m(\u001b[0m\u001b[1;34m'NOBODY   :{}'\u001b[0m\u001b[1;33m.\u001b[0m\u001b[0mformat\u001b[0m\u001b[1;33m(\u001b[0m\u001b[0mwinner_list\u001b[0m\u001b[1;33m.\u001b[0m\u001b[0mcount\u001b[0m\u001b[1;33m(\u001b[0m\u001b[1;34m'NOBODY'\u001b[0m\u001b[1;33m)\u001b[0m\u001b[1;33m)\u001b[0m\u001b[1;33m)\u001b[0m\u001b[1;33m\u001b[0m\u001b[1;33m\u001b[0m\u001b[0m\n\u001b[1;32m----> 5\u001b[1;33m \u001b[0mprint\u001b[0m\u001b[1;33m(\u001b[0m\u001b[1;34m'QLの勝率 :{}'\u001b[0m\u001b[1;33m.\u001b[0m\u001b[0mformat\u001b[0m\u001b[1;33m(\u001b[0m\u001b[0mwinner_list\u001b[0m\u001b[1;33m.\u001b[0m\u001b[0mcount\u001b[0m\u001b[1;33m(\u001b[0m\u001b[1;34m'QL AI'\u001b[0m\u001b[1;33m)\u001b[0m \u001b[1;33m/\u001b[0m \u001b[0mlen\u001b[0m\u001b[1;33m(\u001b[0m\u001b[0mwinner_list\u001b[0m\u001b[1;33m)\u001b[0m\u001b[1;33m)\u001b[0m\u001b[1;33m)\u001b[0m\u001b[1;33m\u001b[0m\u001b[1;33m\u001b[0m\u001b[0m\n\u001b[0m",
      "\u001b[1;31mZeroDivisionError\u001b[0m: division by zero"
     ]
    }
   ],
   "source": [
    "print('勝ち回数')\n",
    "print('Random AI:{}'.format(winner_list.count('Random AI')))\n",
    "print('QL AI    :{}'.format(winner_list.count('QL AI')))\n",
    "print('NOBODY   :{}'.format(winner_list.count('NOBODY')))\n",
    "print('QLの勝率 :{}'.format(winner_list.count('QL AI') / len(winner_list)))"
   ]
  },
  {
   "cell_type": "code",
   "execution_count": 39,
   "metadata": {},
   "outputs": [],
   "source": [
    "def player_vs_QLAI(first_inputter, q_table, epsilon=0):\n",
    "    \"\"\"\n",
    "    プレイヤーとAI(Q学習)のゲームを実行する関数\n",
    "\n",
    "    先手(1:プレイヤー)、2:AI(Q学習))を受け取り、ゲームが終了するまで実行する\n",
    "    \"\"\"\n",
    "    inputter1 = 'YOU'\n",
    "    inputter2 = 'QL AI'\n",
    "\n",
    "    # Q学習退避用\n",
    "    ql_input_list = []\n",
    "    play_area_list = []\n",
    "\n",
    "    play_area = list(range(1, 10))\n",
    "    show_play(play_area)\n",
    "    inputter_count = first_inputter\n",
    "    end_flg = 0\n",
    "    ql_flg = 0\n",
    "    reward = 0\n",
    "    while True:\n",
    "        # Q学習退避用\n",
    "        play_area_tmp = play_area.copy()\n",
    "        play_area_list.append(play_area_tmp)\n",
    "        # Q学習実行フラグ\n",
    "        ql_flg = 0\n",
    "        # AI(Q学習)の手番\n",
    "        if (inputter_count % 2) == 0:\n",
    "            # QL AI入力\n",
    "            play_area, ql_ai_input = get_ai_input(play_area, \n",
    "                                                  first_inputter,\n",
    "                                                  mode=1, \n",
    "                                                  q_table=q_table, \n",
    "                                                  epsilon=epsilon)\n",
    "            show_play(play_area, inputter2, ql_ai_input)\n",
    "            winner, end_flg = judge(play_area, inputter2)\n",
    "            # Q学習退避用\n",
    "            ql_input_list.append(ql_ai_input)            \n",
    "            # 勝利した場合\n",
    "            if winner == inputter2:\n",
    "                reward = 1\n",
    "                ql_flg = 1\n",
    "            play_area_before = play_area_list[-1]\n",
    "            ql_ai_input_before = ql_input_list[-1]\n",
    "        # プレイヤーの手番\n",
    "        elif (inputter_count % 2) == 1:\n",
    "            print('Your turn!')\n",
    "            # プレイヤーの入力受付\n",
    "            play_area, player_input = get_player_input(play_area, first_inputter)\n",
    "            show_play(play_area, inputter1, player_input)\n",
    "            winner, end_flg = judge(play_area, inputter1)\n",
    "            # プレイヤーが勝利した場合\n",
    "            if winner == inputter1:\n",
    "                reward = -1\n",
    "            # プレイヤーが先手の場合の初手以外は学習\n",
    "            if inputter_count != 1:\n",
    "                ql_flg = 1\n",
    "        # Q学習実行\n",
    "        if ql_flg == 1:\n",
    "#            print('Q学習')\n",
    "            ql_ai_input_before = ql_input_list[-1]\n",
    "            q_table = q_learning(play_area_before, ql_ai_input_before,\n",
    "                                 reward, play_area, q_table, end_flg)\n",
    "        if end_flg:\n",
    "            break\n",
    "        inputter_count += 1\n",
    "    show_play(play_area)\n",
    "    print('{} win!!!'.format(winner))\n",
    "    sleep(1)\n",
    "    return winner, q_table"
   ]
  },
  {
   "cell_type": "code",
   "execution_count": 58,
   "metadata": {},
   "outputs": [
    {
     "data": {
      "image/png": "[encoded data removed]",
      "text/plain": [
       "<Figure size 432x432 with 1 Axes>"
      ]
     },
     "metadata": {
      "needs_background": "light"
     },
     "output_type": "display_data"
    },
    {
     "name": "stdout",
     "output_type": "stream",
     "text": [
      "QL AI win!!!\n"
     ]
    }
   ],
   "source": [
    "# プレイヤー vs QL\n",
    "# 試行数設定\n",
    "episode = 1\n",
    "winner_list = []\n",
    "for i in range(episode):\n",
    "    epsilon = initial_epsilon * (episode-i) / episode\n",
    "    winner, q_table = player_vs_QLAI(1, q_table, epsilon=0)\n",
    "    winner_list.append(winner)"
   ]
  },
  {
   "cell_type": "code",
   "execution_count": null,
   "metadata": {},
   "outputs": [],
   "source": []
  }
 ],
 "metadata": {
  "kernelspec": {
   "display_name": "Python 3",
   "language": "python",
   "name": "python3"
  },
  "language_info": {
   "codemirror_mode": {
    "name": "ipython",
    "version": 3
   },
   "file_extension": ".py",
   "mimetype": "text/x-python",
   "name": "python",
   "nbconvert_exporter": "python",
   "pygments_lexer": "ipython3",
   "version": "3.8.3"
  }
 },
 "nbformat": 4,
 "nbformat_minor": 4
}
